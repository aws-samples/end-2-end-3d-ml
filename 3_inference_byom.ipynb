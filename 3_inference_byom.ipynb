{
 "cells": [
  {
   "cell_type": "markdown",
   "id": "69efcc15",
   "metadata": {},
   "source": [
    "# SageMaker Inference with mmdetection3D\n",
    "\n",
    "This notebook will use the model you trained earlier in the workshop to perform inference using [mmdetection3D](https://github.com/open-mmlab/mmdetection3d).\n",
    "\n",
    "Point cloud data can take up a lot of space. Because pointcloud payloads may be quite large, we will use SageMaker's [Asynchronous Inference](https://docs.aws.amazon.com/sagemaker/latest/dg/async-inference.html) capability. \n",
    "\n",
    "The notebook will follow these basic steps:\n",
    "\n",
    "* Define a SageMaker model using the results from our training process\n",
    "* Create an async inference endpoint\n",
    "* Test the endpoint\n",
    "\n",
    "## Async Inference\n",
    "\n",
    "SageMaker real-time inference endpoints typically act in a synchronous mode, just like any RESTful API.  That poses a challenge for cases where the input or output are too large for a normal REST payload.  SageMaker async inference endpoints solve that problem.\n",
    "\n",
    "![Async Inference](display_images/async-inf.png)\n",
    "\n",
    "_Image copied from a [SageMaker example notebook](https://github.com/aws/amazon-sagemaker-examples/blob/master/async-inference/Async-Inference-Walkthrough.ipynb)_\n",
    "\n",
    "When a request comes in to an async inference endpoint, the request goes into an internal queue, and references input data stored in an S3 bucket.  When the inference code runs, it gets the input data from S3 and gets the inference.  SageMaker stores the result in another S3 object, which we can download later.\n",
    "\n",
    "See this [example notebook](https://github.com/aws/amazon-sagemaker-examples/blob/master/async-inference/Async-Inference-Walkthrough.ipynb) for a more detailed walkthrough of async inference endpoints.\n",
    "\n",
    "### Inference I/O format\n",
    "\n",
    "Since we are providing our own inference code, we can determine the input and output formats.  The input to the inference endpoint is a point cloud from A2D2.  The response is a [pickled](https://docs.python.org/3/library/pickle.html) version of the mmdetect response object.\n",
    "\n",
    "The model artifact has to contain a configuration file and a model checkpoint.  The configuration file \n",
    "can point to other items in the `mmdetection3d` folder, but it has to contain absolute paths.  In the image,\n",
    "`mmdetection3d` is installed directly under the root.\n",
    "\n",
    "We have the mmdetect configuration file and model checkpoint prepared from the previous notebook.\n",
    "\n",
    "### Inference code\n",
    "\n",
    "Our inference container runs a [Flask](https://flask.palletsprojects.com/en/2.0.x/) server to respond to inference requests.  You can review the code in the `container_inference` directory.  The files `serve`, `nginx.conf`, and `wsgi.py` are boilerplate for the Flask server.  \n",
    "\n",
    "The interesting code is in `predictor.py`."
   ]
  },
  {
   "cell_type": "code",
   "execution_count": 3,
   "id": "0f781449",
   "metadata": {},
   "outputs": [
    {
     "name": "stdout",
     "output_type": "stream",
     "text": [
      "\u001b[37m# Copyright Amazon.com, Inc. or its affiliates. All Rights Reserved.\u001b[39;49;00m\n",
      "\n",
      "\u001b[34mfrom\u001b[39;49;00m \u001b[04m\u001b[36m__future__\u001b[39;49;00m \u001b[34mimport\u001b[39;49;00m print_function\n",
      "\n",
      "\u001b[34mimport\u001b[39;49;00m \u001b[04m\u001b[36mos\u001b[39;49;00m\n",
      "\u001b[34mimport\u001b[39;49;00m \u001b[04m\u001b[36mio\u001b[39;49;00m\n",
      "\u001b[34mimport\u001b[39;49;00m \u001b[04m\u001b[36mjson\u001b[39;49;00m\n",
      "\u001b[34mimport\u001b[39;49;00m \u001b[04m\u001b[36mtempfile\u001b[39;49;00m\n",
      "\u001b[34mimport\u001b[39;49;00m \u001b[04m\u001b[36mpickle\u001b[39;49;00m\n",
      "\n",
      "\u001b[34mimport\u001b[39;49;00m \u001b[04m\u001b[36mflask\u001b[39;49;00m\n",
      "\n",
      "\u001b[34mimport\u001b[39;49;00m \u001b[04m\u001b[36mtorch\u001b[39;49;00m\n",
      "\u001b[34mfrom\u001b[39;49;00m \u001b[04m\u001b[36mglob\u001b[39;49;00m \u001b[34mimport\u001b[39;49;00m glob\n",
      "\n",
      "\u001b[34mfrom\u001b[39;49;00m \u001b[04m\u001b[36mmmdet3d\u001b[39;49;00m\u001b[04m\u001b[36m.\u001b[39;49;00m\u001b[04m\u001b[36mapis\u001b[39;49;00m \u001b[34mimport\u001b[39;49;00m init_model, inference_detector\n",
      "\n",
      "prefix = \u001b[33m'\u001b[39;49;00m\u001b[33m/opt/ml/\u001b[39;49;00m\u001b[33m'\u001b[39;49;00m\n",
      "model_path = os.path.join(prefix, \u001b[33m'\u001b[39;49;00m\u001b[33mmodel\u001b[39;49;00m\u001b[33m'\u001b[39;49;00m)\n",
      "\n",
      "\u001b[37m# A singleton for holding the model. This simply loads the model and holds it.\u001b[39;49;00m\n",
      "\u001b[37m# It has a predict function that does a prediction based on the model and the input data.\u001b[39;49;00m\n",
      "\n",
      "\u001b[33m\"\"\"\u001b[39;49;00m\n",
      "\u001b[33mThe model artifact must contain the configuration file and the model checkpoint.\u001b[39;49;00m\n",
      "\u001b[33m\u001b[39;49;00m\n",
      "\u001b[33mThe configuration file should contain absolute paths to /mmdetection3d if it points\u001b[39;49;00m\n",
      "\u001b[33mto base files.\u001b[39;49;00m\n",
      "\u001b[33m\u001b[39;49;00m\n",
      "\u001b[33mThe prediction method accepts a point cloud byte stream, and returns a pickled version\u001b[39;49;00m\n",
      "\u001b[33mof the response.\u001b[39;49;00m\n",
      "\u001b[33m\"\"\"\u001b[39;49;00m\n",
      "\n",
      "\u001b[34mclass\u001b[39;49;00m \u001b[04m\u001b[32mPredictService\u001b[39;49;00m(\u001b[36mobject\u001b[39;49;00m):\n",
      "    model = \u001b[34mNone\u001b[39;49;00m                \u001b[37m# Where we keep the model when it's loaded\u001b[39;49;00m\n",
      "\n",
      "    \u001b[90m@classmethod\u001b[39;49;00m\n",
      "    \u001b[34mdef\u001b[39;49;00m \u001b[32mget_model\u001b[39;49;00m(\u001b[36mcls\u001b[39;49;00m):\n",
      "        \u001b[33m\"\"\"Get the model object for this instance, loading it if it's not already loaded.\"\"\"\u001b[39;49;00m\n",
      "        \u001b[34mif\u001b[39;49;00m \u001b[36mcls\u001b[39;49;00m.model == \u001b[34mNone\u001b[39;49;00m:\n",
      "            device = \u001b[33m\"\u001b[39;49;00m\u001b[33mcuda\u001b[39;49;00m\u001b[33m\"\u001b[39;49;00m \u001b[34mif\u001b[39;49;00m torch.cuda.is_available() \u001b[34melse\u001b[39;49;00m \u001b[33m\"\u001b[39;49;00m\u001b[33mcpu\u001b[39;49;00m\u001b[33m\"\u001b[39;49;00m\n",
      "                \n",
      "            config_file = glob(\u001b[33mf\u001b[39;49;00m\u001b[33m'\u001b[39;49;00m\u001b[33m{\u001b[39;49;00mmodel_path\u001b[33m}\u001b[39;49;00m\u001b[33m/*.py\u001b[39;49;00m\u001b[33m'\u001b[39;49;00m)[\u001b[34m0\u001b[39;49;00m]\n",
      "            checkpoint_file = glob(\u001b[33mf\u001b[39;49;00m\u001b[33m\"\u001b[39;49;00m\u001b[33m{\u001b[39;49;00mmodel_path\u001b[33m}\u001b[39;49;00m\u001b[33m/*.pth\u001b[39;49;00m\u001b[33m\"\u001b[39;49;00m)[\u001b[34m0\u001b[39;49;00m]\n",
      "            \u001b[36mprint\u001b[39;49;00m(\u001b[33mf\u001b[39;49;00m\u001b[33m\"\u001b[39;49;00m\u001b[33mLoading config file \u001b[39;49;00m\u001b[33m{\u001b[39;49;00mconfig_file\u001b[33m}\u001b[39;49;00m\u001b[33m from path \u001b[39;49;00m\u001b[33m{\u001b[39;49;00mmodel_path\u001b[33m}\u001b[39;49;00m\u001b[33m\"\u001b[39;49;00m)\n",
      "\n",
      "            \u001b[36mcls\u001b[39;49;00m.model = init_model(config_file, checkpoint_file, device=device)\n",
      "            \n",
      "        \u001b[34mreturn\u001b[39;49;00m \u001b[36mcls\u001b[39;49;00m.model\n",
      "\n",
      "    \u001b[90m@classmethod\u001b[39;49;00m\n",
      "    \u001b[34mdef\u001b[39;49;00m \u001b[32mpredict\u001b[39;49;00m(\u001b[36mcls\u001b[39;49;00m, \u001b[36minput\u001b[39;49;00m):\n",
      "        \n",
      "        clf = \u001b[36mcls\u001b[39;49;00m.get_model()\n",
      "        f = io.BytesIO(\u001b[36minput\u001b[39;49;00m)\n",
      "        tfile = tempfile.NamedTemporaryFile(delete=\u001b[34mFalse\u001b[39;49;00m)\n",
      "        tfile.write(f.read())\n",
      "        \n",
      "        \u001b[37m# get inference results\u001b[39;49;00m\n",
      "        res, data = inference_detector(clf, tfile.name)\n",
      "        results = {}\n",
      "        \n",
      "        \u001b[37m# change torch tensors to numpy arrays\u001b[39;49;00m\n",
      "        results[\u001b[33m'\u001b[39;49;00m\u001b[33mboxes_3d\u001b[39;49;00m\u001b[33m'\u001b[39;49;00m] = res[\u001b[34m0\u001b[39;49;00m][\u001b[33m'\u001b[39;49;00m\u001b[33mboxes_3d\u001b[39;49;00m\u001b[33m'\u001b[39;49;00m].tensor.detach().cpu().numpy()\n",
      "        results[\u001b[33m'\u001b[39;49;00m\u001b[33mscores_3d\u001b[39;49;00m\u001b[33m'\u001b[39;49;00m] = res[\u001b[34m0\u001b[39;49;00m][\u001b[33m'\u001b[39;49;00m\u001b[33mscores_3d\u001b[39;49;00m\u001b[33m'\u001b[39;49;00m].detach().cpu().numpy()\n",
      "        results[\u001b[33m'\u001b[39;49;00m\u001b[33mlabels_3d\u001b[39;49;00m\u001b[33m'\u001b[39;49;00m] = res[\u001b[34m0\u001b[39;49;00m][\u001b[33m'\u001b[39;49;00m\u001b[33mlabels_3d\u001b[39;49;00m\u001b[33m'\u001b[39;49;00m].detach().cpu().numpy()\n",
      "        mm_result = {\u001b[33m'\u001b[39;49;00m\u001b[33mresult\u001b[39;49;00m\u001b[33m'\u001b[39;49;00m: results}\n",
      "        \u001b[34mreturn\u001b[39;49;00m mm_result\n",
      "\n",
      "\u001b[37m# The flask app for serving predictions\u001b[39;49;00m\n",
      "app = flask.Flask(\u001b[31m__name__\u001b[39;49;00m)\n",
      "\n",
      "\u001b[90m@app\u001b[39;49;00m.route(\u001b[33m'\u001b[39;49;00m\u001b[33m/ping\u001b[39;49;00m\u001b[33m'\u001b[39;49;00m, methods=[\u001b[33m'\u001b[39;49;00m\u001b[33mGET\u001b[39;49;00m\u001b[33m'\u001b[39;49;00m])\n",
      "\u001b[34mdef\u001b[39;49;00m \u001b[32mping\u001b[39;49;00m():\n",
      "    \u001b[33m\"\"\"Determine if the container is working and healthy. In this sample container, we declare\u001b[39;49;00m\n",
      "\u001b[33m    it healthy if we can load the model successfully.\"\"\"\u001b[39;49;00m\n",
      "    health = PredictService.get_model() \u001b[35mis\u001b[39;49;00m \u001b[35mnot\u001b[39;49;00m \u001b[34mNone\u001b[39;49;00m  \u001b[37m# You can insert a health check here\u001b[39;49;00m\n",
      "\n",
      "    status = \u001b[34m200\u001b[39;49;00m \u001b[34mif\u001b[39;49;00m health \u001b[34melse\u001b[39;49;00m \u001b[34m404\u001b[39;49;00m\n",
      "    \u001b[34mreturn\u001b[39;49;00m flask.Response(response=\u001b[33m'\u001b[39;49;00m\u001b[33m\\n\u001b[39;49;00m\u001b[33m'\u001b[39;49;00m, status=status, mimetype=\u001b[33m'\u001b[39;49;00m\u001b[33mapplication/json\u001b[39;49;00m\u001b[33m'\u001b[39;49;00m)\n",
      "\n",
      "\u001b[90m@app\u001b[39;49;00m.route(\u001b[33m'\u001b[39;49;00m\u001b[33m/invocations\u001b[39;49;00m\u001b[33m'\u001b[39;49;00m, methods=[\u001b[33m'\u001b[39;49;00m\u001b[33mPOST\u001b[39;49;00m\u001b[33m'\u001b[39;49;00m])\n",
      "\u001b[34mdef\u001b[39;49;00m \u001b[32mtransformation\u001b[39;49;00m():\n",
      "\n",
      "    predictions = PredictService.predict(flask.request.data)\n",
      "\n",
      "    result = pickle.dumps(predictions)\n",
      "\n",
      "    \u001b[34mreturn\u001b[39;49;00m flask.Response(response=result, status=\u001b[34m200\u001b[39;49;00m, mimetype=\u001b[33m'\u001b[39;49;00m\u001b[33mapplication/octet-stream\u001b[39;49;00m\u001b[33m'\u001b[39;49;00m)\n"
     ]
    }
   ],
   "source": [
    "!pygmentize -l python container_inference/mm3d/predictor.py"
   ]
  },
  {
   "cell_type": "markdown",
   "id": "156a6c3e",
   "metadata": {},
   "source": [
    "You'll notice that the `predictor.py` code handles two Flask methods.  The first, `ping`, is just a health check that lets SageMaker know that the endpoint is ready to serve.  In that method, we see if we can load the model successfully.\n",
    "\n",
    "The second method, `transformation`, actually returns an inference.  "
   ]
  },
  {
   "cell_type": "markdown",
   "id": "ab10522b",
   "metadata": {},
   "source": [
    "### Install pytransform3d\n",
    "\n",
    "We will install pytransform3d that we will use later to visualize our inference results."
   ]
  },
  {
   "cell_type": "code",
   "execution_count": null,
   "id": "6a009ab9",
   "metadata": {
    "scrolled": true
   },
   "outputs": [],
   "source": [
    "!pip install pytransform3d -q"
   ]
  },
  {
   "cell_type": "markdown",
   "id": "d7d3e1a9",
   "metadata": {},
   "source": [
    "## Upload model artifact\n",
    "\n",
    "When you train a model in SageMaker it packages the results in a compressed `model.tar.gz` file. This file contains the trained model weights and any model configuration files. SageMaker inference requires your model to be in this format, but since we trained our model in SageMaker it's already in the correct format. Let's upload this file to S3 so our endpoint can retrieve it later."
   ]
  },
  {
   "cell_type": "code",
   "execution_count": 6,
   "id": "a0f5b3bc",
   "metadata": {},
   "outputs": [],
   "source": [
    "# Use the default notebook execution role\n",
    "from sagemaker import get_execution_role\n",
    "\n",
    "role = get_execution_role()"
   ]
  },
  {
   "cell_type": "code",
   "execution_count": null,
   "id": "48d3c036",
   "metadata": {},
   "outputs": [],
   "source": [
    "from sagemaker.s3 import S3Uploader\n",
    "import sagemaker\n",
    "import boto3\n",
    "\n",
    "# get sagemaker runtime\n",
    "sm_runtime = boto3.client(\"sagemaker-runtime\")\n",
    "\n",
    "# Upload model artifact to S3\n",
    "file_key = 'model.tar.gz'\n",
    "sm_session = sagemaker.session.Session()\n",
    "bucket = sm_session.default_bucket()\n",
    "prefix = \"mm3d\"\n",
    "b3sess = boto3.Session()\n",
    "region = b3sess.region_name\n",
    "try:\n",
    "    model_artifact = S3Uploader.upload(file_key, f's3://{bucket}/{prefix}/model')\n",
    "except:\n",
    "    !aws s3 cp s3://nvidia-aws-coursera/model.tar.gz .\n",
    "    model_artifact = S3Uploader.upload(file_key, f's3://{bucket}/{prefix}/model')\n",
    "    \n",
    "print(model_artifact)"
   ]
  },
  {
   "cell_type": "markdown",
   "id": "0cfcb9d9",
   "metadata": {},
   "source": [
    "### Deployment container\n",
    "\n",
    "If running this in an AWS instructor led workshop, your container may have already been built ahead of time, but if running this on your own, you'll need to build your deployment container.\n",
    "\n",
    "SageMaker inference supplies a variety of different built in inference containers, since `mmdetection3d` is a library with its own set of complex dependencies, we are going to use a custom hosting container. This process will take ~10 minutes."
   ]
  },
  {
   "cell_type": "code",
   "execution_count": null,
   "id": "eca0105c",
   "metadata": {
    "scrolled": true
   },
   "outputs": [],
   "source": [
    "IMAGE_NAME = 'mm3dinf'\n",
    "region = boto3.session.Session().region_name\n",
    "account = boto3.client('sts').get_caller_identity()['Account']\n",
    "\n",
    "# # if in MLR401 your container will already be built for you, you can ue the following commands to pull them down!\n",
    "\n",
    "! docker pull public.ecr.aws/k2j9l5n0/mm3dinf\n",
    "! docker tag public.ecr.aws/k2j9l5n0/mm3dinf {account}.dkr.ecr.us-east-1.amazonaws.com/mm3dinf\n",
    "! aws ecr get-login --no-include-email | bash\n",
    "! aws ecr create-repository --region {region} --repository-name {IMAGE_NAME}\n",
    "! docker push {account}.dkr.ecr.us-east-1.amazonaws.com/mm3dinf\n",
    "\n",
    "\n",
    "# # if running on your own uncomment out the below lines:\n",
    "# !aws ecr get-login-password --region {region} | docker login --username AWS --password-stdin 763104351884.dkr.ecr.{region}.amazonaws.com\n",
    "# !bash ./build_and_push.sh {region} {IMAGE_NAME} latest container_inference "
   ]
  },
  {
   "cell_type": "code",
   "execution_count": 16,
   "id": "8bea8d0f",
   "metadata": {},
   "outputs": [
    {
     "name": "stdout",
     "output_type": "stream",
     "text": [
      "427894311213.dkr.ecr.us-east-1.amazonaws.com/mm3dinf\n",
      "sagemaker-mm3d-1637716167\n"
     ]
    }
   ],
   "source": [
    "import time\n",
    "account = boto3.client('sts').get_caller_identity()['Account']\n",
    "\n",
    "container = f'{account}.dkr.ecr.us-east-1.amazonaws.com/{IMAGE_NAME}'\n",
    "model_name = f'sagemaker-mm3d-{int(time.time())}'\n",
    "print(container)\n",
    "print(model_name)"
   ]
  },
  {
   "cell_type": "markdown",
   "id": "4e9cc84c",
   "metadata": {},
   "source": [
    "### Create SageMaker model\n",
    "\n",
    "Before we deploy our endpoint, we need to create a SageMaker model. A SageMaker model is different from the model we trained in the previous notebook in that it contains the information necessary to create the environment around the model so that it can be deployed as an endpoint when paired with an endpoint configuration, which will tell SageMaker what kind of instance to deploy the model to. "
   ]
  },
  {
   "cell_type": "code",
   "execution_count": 17,
   "id": "8edf2299",
   "metadata": {},
   "outputs": [],
   "source": [
    "# Define SageMaker model using our container and model artifact\n",
    "\n",
    "sm_client = boto3.client(\"sagemaker\")\n",
    "\n",
    "create_model_response = sm_client.create_model(\n",
    "    ModelName = model_name,\n",
    "    ExecutionRoleArn = role,\n",
    "    PrimaryContainer = {\n",
    "        'Image': container,\n",
    "        'ModelDataUrl': model_artifact,\n",
    "        'Environment': {\n",
    "            'TS_MAX_REQUEST_SIZE': '100000000', \n",
    "            'TS_MAX_RESPONSE_SIZE': '100000000',\n",
    "            'TS_DEFAULT_RESPONSE_TIMEOUT': '1000'\n",
    "        }\n",
    "    },    \n",
    ")"
   ]
  },
  {
   "cell_type": "code",
   "execution_count": 18,
   "id": "131f8675",
   "metadata": {},
   "outputs": [
    {
     "data": {
      "text/plain": [
       "{'ModelArn': 'arn:aws:sagemaker:us-east-1:427894311213:model/sagemaker-mm3d-1637716167',\n",
       " 'ResponseMetadata': {'RequestId': '939ba444-4dd8-4067-bfc6-93e86759a92c',\n",
       "  'HTTPStatusCode': 200,\n",
       "  'HTTPHeaders': {'x-amzn-requestid': '939ba444-4dd8-4067-bfc6-93e86759a92c',\n",
       "   'content-type': 'application/x-amz-json-1.1',\n",
       "   'content-length': '87',\n",
       "   'date': 'Wed, 24 Nov 2021 01:09:28 GMT'},\n",
       "  'RetryAttempts': 0}}"
      ]
     },
     "execution_count": 18,
     "metadata": {},
     "output_type": "execute_result"
    }
   ],
   "source": [
    "# Confirm that the model was created\n",
    "create_model_response"
   ]
  },
  {
   "cell_type": "markdown",
   "id": "21befc59",
   "metadata": {},
   "source": [
    "## Create inference endpoint\n",
    "\n",
    "In this section, we'll create an async inference endpoint. We take the model object we created previously and pair it with an endpoint configuration that tell SageMaker how many and what type of instances to deploy the model to. In this case we also use the endpoint configuration to tell SageMaker we want to make this endpoint an asynchronous endpoint.  "
   ]
  },
  {
   "cell_type": "code",
   "execution_count": 19,
   "id": "bced0a45",
   "metadata": {},
   "outputs": [
    {
     "name": "stdout",
     "output_type": "stream",
     "text": [
      "Created EndpointConfig: arn:aws:sagemaker:us-east-1:427894311213:endpoint-config/mm3dasyncendpointconfig-2021-11-24-01-09-32\n"
     ]
    }
   ],
   "source": [
    "# Define an endpoint that uses one ml.g4dn.2xlarge instance and uses async inference\n",
    "from time import strftime,gmtime\n",
    "endpoint_config_name = f\"MM3DAsyncEndpointConfig-{strftime('%Y-%m-%d-%H-%M-%S', gmtime())}\"\n",
    "create_endpoint_config_response = sm_client.create_endpoint_config(\n",
    "    EndpointConfigName=endpoint_config_name,\n",
    "    ProductionVariants=[\n",
    "        {\n",
    "            \"VariantName\": \"variant1\",\n",
    "            \"ModelName\": model_name,\n",
    "            \"InstanceType\": \"ml.g4dn.2xlarge\",\n",
    "            \"InitialInstanceCount\": 1\n",
    "        }\n",
    "    ],\n",
    "    AsyncInferenceConfig={\n",
    "        \"OutputConfig\": {\n",
    "            \"S3OutputPath\": f\"s3://{bucket}/{prefix}/output\"\n",
    "        },\n",
    "        \"ClientConfig\": {\n",
    "            \"MaxConcurrentInvocationsPerInstance\": 1\n",
    "        }\n",
    "    }\n",
    ")\n",
    "print(f\"Created EndpointConfig: {create_endpoint_config_response['EndpointConfigArn']}\")"
   ]
  },
  {
   "cell_type": "markdown",
   "id": "a55b6d64",
   "metadata": {},
   "source": [
    "Now that we have created our SageMaker model object and our endpoint configuration, we can deploy our endpoint. The deployment process takes 5-10 minutes."
   ]
  },
  {
   "cell_type": "code",
   "execution_count": 20,
   "id": "8480cc17",
   "metadata": {},
   "outputs": [
    {
     "name": "stdout",
     "output_type": "stream",
     "text": [
      "Creating Endpoint: arn:aws:sagemaker:us-east-1:427894311213:endpoint/sm-2021-11-24-01-09-42\n"
     ]
    }
   ],
   "source": [
    "# Deploy the endpoint\n",
    "endpoint_name = f\"sm-{strftime('%Y-%m-%d-%H-%M-%S', gmtime())}\"\n",
    "create_endpoint_response = sm_client.create_endpoint(EndpointName=endpoint_name, EndpointConfigName=endpoint_config_name)\n",
    "print(f\"Creating Endpoint: {create_endpoint_response['EndpointArn']}\")"
   ]
  },
  {
   "cell_type": "markdown",
   "id": "afd98511",
   "metadata": {},
   "source": [
    "Running the following cell will launch a waiter that will alert us when our endpoint has been successfully deployed."
   ]
  },
  {
   "cell_type": "code",
   "execution_count": 21,
   "id": "968e865f",
   "metadata": {},
   "outputs": [
    {
     "name": "stdout",
     "output_type": "stream",
     "text": [
      "Waiting for endpoint to create...\n",
      "Endpoint Status: InService\n"
     ]
    }
   ],
   "source": [
    "# Wait for the endpoint to enter service\n",
    "waiter = boto3.client('sagemaker').get_waiter('endpoint_in_service')\n",
    "print(\"Waiting for endpoint to create...\")\n",
    "waiter.wait(EndpointName=endpoint_name)\n",
    "resp = sm_client.describe_endpoint(EndpointName=endpoint_name)\n",
    "print(f\"Endpoint Status: {resp['EndpointStatus']}\")"
   ]
  },
  {
   "cell_type": "markdown",
   "id": "08de4332",
   "metadata": {},
   "source": [
    "## Test the endpoint\n",
    "\n",
    "Next we'll upload an A2D2 point cloud file and test the inference endpoint.  Since we're using async inference, the call to the endpoint doesn't return the inference instantaneously.  Rather, it returns a pointer to the S3 output location.  We can check for the presence of the results there."
   ]
  },
  {
   "cell_type": "code",
   "execution_count": 22,
   "id": "89db35f9",
   "metadata": {},
   "outputs": [],
   "source": [
    "# Helper method for uploading to S3\n",
    "def upload_file(input_location, prefix):\n",
    "    prefix = f\"{prefix}/input\"\n",
    "    return sm_session.upload_data(\n",
    "        input_location, \n",
    "        bucket=sm_session.default_bucket(),\n",
    "        key_prefix=prefix)"
   ]
  },
  {
   "cell_type": "markdown",
   "id": "7e4cc77c",
   "metadata": {},
   "source": [
    "First we upload our point cloud file to a location in S3. Let's gather the paths to our scene IDs and pick a scene and a frame."
   ]
  },
  {
   "cell_type": "code",
   "execution_count": 33,
   "id": "07fe32aa",
   "metadata": {},
   "outputs": [
    {
     "data": {
      "text/plain": [
       "['../fsx/a2d2/camera_lidar_semantic_bboxes/20180807_145028',\n",
       " '../fsx/a2d2/camera_lidar_semantic_bboxes/20180810_142822',\n",
       " '../fsx/a2d2/camera_lidar_semantic_bboxes/20180925_101535',\n",
       " '../fsx/a2d2/camera_lidar_semantic_bboxes/20180925_112730',\n",
       " '../fsx/a2d2/camera_lidar_semantic_bboxes/20180925_124435',\n",
       " '../fsx/a2d2/camera_lidar_semantic_bboxes/20180925_135056',\n",
       " '../fsx/a2d2/camera_lidar_semantic_bboxes/20181008_095521',\n",
       " '../fsx/a2d2/camera_lidar_semantic_bboxes/20181016_125231',\n",
       " '../fsx/a2d2/camera_lidar_semantic_bboxes/20181107_132300',\n",
       " '../fsx/a2d2/camera_lidar_semantic_bboxes/20181107_132730',\n",
       " '../fsx/a2d2/camera_lidar_semantic_bboxes/20181107_133258',\n",
       " '../fsx/a2d2/camera_lidar_semantic_bboxes/20181108_084007',\n",
       " '../fsx/a2d2/camera_lidar_semantic_bboxes/20181108_091945',\n",
       " '../fsx/a2d2/camera_lidar_semantic_bboxes/20181108_103155',\n",
       " '../fsx/a2d2/camera_lidar_semantic_bboxes/20181108_123750',\n",
       " '../fsx/a2d2/camera_lidar_semantic_bboxes/20181204_135952',\n",
       " '../fsx/a2d2/camera_lidar_semantic_bboxes/20181204_154421',\n",
       " '../fsx/a2d2/camera_lidar_semantic_bboxes/20181204_170238']"
      ]
     },
     "execution_count": 33,
     "metadata": {},
     "output_type": "execute_result"
    }
   ],
   "source": [
    "from glob import glob\n",
    "\n",
    "scene_ids = sorted(glob('../fsx/a2d2/camera_lidar_semantic_bboxes/2018*'))\n",
    "scene_ids"
   ]
  },
  {
   "cell_type": "code",
   "execution_count": null,
   "id": "e972d38f",
   "metadata": {},
   "outputs": [],
   "source": [
    "dataset_root_path = \"../fsx/a2d2/\"\n",
    "scene_id = \"20180807_145028\"\n",
    "file_scene_prefix = scene_id.replace(\"_\", \"\")\n",
    "frame_id = \"000000091\"\n",
    "\n",
    "input_1_location = f\"../fsx/a2d2/camera_lidar_semantic_bboxes/{scene_id}/lidar/cam_front_center/{file_scene_prefix}_lidar_frontcenter_{frame_id}.bin\"\n",
    "input_1_s3_location = upload_file(input_1_location, prefix)\n",
    "print(input_1_s3_location)"
   ]
  },
  {
   "cell_type": "code",
   "execution_count": 60,
   "id": "121d03cb",
   "metadata": {},
   "outputs": [
    {
     "name": "stdout",
     "output_type": "stream",
     "text": [
      "OutputLocation: s3://sagemaker-us-east-1-427894311213/mm3d/output/638e6b4c-3878-470c-ad82-9c8beb9f9a23.out\n"
     ]
    }
   ],
   "source": [
    "# Invoke endpoint using boto3 API\n",
    "response = sm_runtime.invoke_endpoint_async(\n",
    "    EndpointName=endpoint_name, \n",
    "    InputLocation=input_1_s3_location)\n",
    "output_location = response['OutputLocation']\n",
    "print(f\"OutputLocation: {output_location}\")"
   ]
  },
  {
   "cell_type": "code",
   "execution_count": 61,
   "id": "6dae012c",
   "metadata": {},
   "outputs": [
    {
     "data": {
      "text/plain": [
       "'sagemaker-us-east-1-427894311213'"
      ]
     },
     "execution_count": 61,
     "metadata": {},
     "output_type": "execute_result"
    }
   ],
   "source": [
    "# Parse the output S3 location from the response\n",
    "from urllib.parse import urlparse\n",
    "parse_object = urlparse(output_location)\n",
    "parse_object.netloc"
   ]
  },
  {
   "cell_type": "code",
   "execution_count": 62,
   "id": "27c6c0f2",
   "metadata": {},
   "outputs": [
    {
     "data": {
      "text/plain": [
       "'mm3d/output/638e6b4c-3878-470c-ad82-9c8beb9f9a23.out'"
      ]
     },
     "execution_count": 62,
     "metadata": {},
     "output_type": "execute_result"
    }
   ],
   "source": [
    "parse_object.path[1:]"
   ]
  },
  {
   "cell_type": "code",
   "execution_count": null,
   "id": "461a4d77",
   "metadata": {},
   "outputs": [],
   "source": [
    "# Download the output.  \n",
    "s3_client = boto3.client('s3')\n",
    "s3_client.download_file(parse_object.netloc, parse_object.path[1:], 'test.pkl')"
   ]
  },
  {
   "cell_type": "code",
   "execution_count": null,
   "id": "972e8034",
   "metadata": {},
   "outputs": [],
   "source": [
    "# The output is a pickled Python object.  Convert it back to a dictionary.\n",
    "import pickle\n",
    "with open('test.pkl', 'rb') as test_f:\n",
    "    test_out = pickle.load(test_f)\n",
    "    \n",
    "# View the output\n",
    "test_out"
   ]
  },
  {
   "cell_type": "code",
   "execution_count": null,
   "id": "4336fd4f",
   "metadata": {},
   "outputs": [],
   "source": [
    "import cv2\n",
    "import numpy as np\n",
    "import matplotlib.pyplot as plt\n",
    "from pathlib import Path\n",
    "from pytransform3d import plot_utils\n",
    "from pytransform3d import rotations as pr\n",
    "from pytransform3d import transformations as pt\n",
    "\n",
    "from a2d2_helpers import undistort_image, generate_color_map\n",
    "\n",
    "\n",
    "file_scene_prefix = scene_id.replace(\"_\", \"\")\n",
    "scene_path = Path(dataset_root_path) / \"camera_lidar_semantic_bboxes\" / scene_id\n",
    "frame_image_path = scene_path / \"camera\" / \"cam_front_center\" / f\"{file_scene_prefix}_camera_frontcenter_{frame_id}.png\"\n",
    "frame_lidar_path = scene_path / \"lidar\" / \"cam_front_center\" / f\"{file_scene_prefix}_lidar_frontcenter_{frame_id}.npz\"\n",
    "frame_label_path = scene_path / \"label3D\" / \"cam_front_center\" / f\"{file_scene_prefix}_label3D_frontcenter_{frame_id}.json\"\n",
    "\n",
    "# Load our frame point cloud from the compressed NPZ format, grabbing the points and reflectance corresponding\n",
    "# to those points. We'll use the reflectance to color our points in the 3D plot.\n",
    "lidar_frame = np.load(str(frame_lidar_path))\n",
    "points = lidar_frame[\"points\"]\n",
    "reflectance = lidar_frame[\"reflectance\"]\n",
    "\n",
    "\n",
    "fig = plt.figure(figsize=(20,10), dpi=200)\n",
    "ax_3d = fig.add_subplot(1, 2, 1, projection='3d')\n",
    "\n",
    "# Plot our point cloud.\n",
    "ax_3d.scatter(points[:,0], points[:,1], points[:,2], s=0.1, c=reflectance, marker=\",\")\n",
    "\n",
    "inference_score_pairs = list(zip(test_out[\"result\"][\"boxes_3d\"], test_out[\"result\"][\"scores_3d\"]))\n",
    "inference_score_pairs = sorted(inference_score_pairs, key=lambda inf_score_pair: -inf_score_pair[1])\n",
    "\n",
    "for inference, score in inference_score_pairs[:5]:\n",
    "    x, y, z, l, w, h, yaw = inference\n",
    "    # See https://mmdetection3d.readthedocs.io/en/latest/api.html for details on mmdetection output format.\n",
    "    qw, qx, qy, qz = pr.quaternion_from_matrix(pr.matrix_from_axis_angle([0, 0, 1, np.pi / 2 - yaw]))\n",
    "    A2B = pt.transform_from_pq([x, y, z, qw, qx, qy, qz])\n",
    "    size = [w, l, h]\n",
    "\n",
    "    plot_utils.plot_box(ax_3d, size=size, A2B=A2B, alpha=0.4)\n",
    "    plot_utils.Frame(A2B).add_frame(ax_3d)\n",
    "\n",
    "# Load our frame image from the file system.\n",
    "image_frame = cv2.imread(str(frame_image_path))\n",
    "image_frame = cv2.cvtColor(image_frame, cv2.COLOR_BGR2RGB)\n",
    "\n",
    "\n",
    "# Show image side by side.\n",
    "ax_2d = fig.add_subplot(1, 2, 2)\n",
    "ax_2d.imshow(image_frame)\n",
    "ax_2d.set_title(\"Image with projected labels overlayed\")\n",
    "\n",
    "\n",
    "limit_m = 10\n",
    "translation = [25, 0, 0]\n",
    "ax_3d.set_xlim((-limit_m + translation[0], limit_m + translation[0]))\n",
    "ax_3d.set_ylim((-limit_m + translation[1], limit_m + translation[1]))\n",
    "ax_3d.set_zlim((-limit_m + translation[2], limit_m + translation[2]))\n",
    "ax_3d.set_xlabel(\"X\")\n",
    "ax_3d.set_ylabel(\"Y\")\n",
    "ax_3d.set_zlabel(\"Z\")\n",
    "ax_3d.view_init(5, 180)"
   ]
  },
  {
   "cell_type": "markdown",
   "id": "02b6ed5c",
   "metadata": {},
   "source": [
    "## Local mode testing\n",
    "\n",
    "If you want to test inference in local mode, you can use this section of the notebook.  You'll need to edit the location of the input point cloud file.  Also note that we specify the SHA of the current version of the container image, so that the local mode endpoint knows when we have a new image to test. In our case we are just going to use the latest version of the container."
   ]
  },
  {
   "cell_type": "code",
   "execution_count": null,
   "id": "4974a8dc",
   "metadata": {},
   "outputs": [],
   "source": [
    "# EDIT CONTAINER IMAGE URL AND SHA IN THIS CELL\n",
    "\n",
    "container = f'{account}.dkr.ecr.us-east-1.amazonaws.com/mm3dinf'\n",
    "container_sha = ''\n",
    "# you can optionally add a SHA specification to the container to use a specific version, we will just use the latest version\n",
    "# simply replace f\"{container}\" with f\"{container}@{container_sha}\"\n",
    "s_model = sagemaker.model.Model(f\"{container}\", model_data=model_artifact, role=role, predictor_cls=sagemaker.predictor.Predictor)"
   ]
  },
  {
   "cell_type": "code",
   "execution_count": null,
   "id": "a03f3b3e",
   "metadata": {},
   "outputs": [],
   "source": [
    "import torch \n",
    "instance_type = \"local_gpu\" if torch.cuda.is_available() else \"local\"\n",
    "\n",
    "# Deploy a new local endpoint\n",
    "predictor = s_model.deploy(\n",
    "        initial_instance_count=1,\n",
    "        instance_type=instance_type,\n",
    "        \n",
    "    )"
   ]
  },
  {
   "cell_type": "code",
   "execution_count": null,
   "id": "bf615494",
   "metadata": {},
   "outputs": [],
   "source": [
    "# this is using the point cloud location we gave to our asynchronous endpoint above, you can change it to test different files\n",
    "\n",
    "with open(input_1_location, 'rb') as in_file:\n",
    "    d = in_file.read()"
   ]
  },
  {
   "cell_type": "code",
   "execution_count": 17,
   "id": "d705d0be",
   "metadata": {},
   "outputs": [
    {
     "name": "stdout",
     "output_type": "stream",
     "text": [
      "\u001b[36m7cmbmklpdb-algo-1-34joy |\u001b[0m 172.18.0.1 - - [29/Sep/2021:19:25:01 +0000] \"POST /invocations HTTP/1.1\" 200 273176 \"-\" \"python-urllib3/1.26.6\"\n"
     ]
    }
   ],
   "source": [
    "# Get prediction locally\n",
    "r = predictor.predict(d)"
   ]
  },
  {
   "cell_type": "code",
   "execution_count": 18,
   "id": "ddb41e79",
   "metadata": {},
   "outputs": [],
   "source": [
    "# Deserialize the output\n",
    "import pickle\n",
    "rr = pickle.loads(r)"
   ]
  },
  {
   "cell_type": "code",
   "execution_count": 19,
   "id": "ad1f95e2",
   "metadata": {},
   "outputs": [
    {
     "data": {
      "text/plain": [
       "{'result': [{'boxes_3d': LiDARInstance3DBoxes(\n",
       "       tensor([[ 14.6441,  -1.0253,  -1.4654,   1.5818,   3.5405,   1.4238,   1.9014],\n",
       "           [  8.1068,   1.2317,  -1.5741,   1.5685,   3.6499,   1.5669,  -1.2676],\n",
       "           [  6.4485,  -3.9033,  -1.7702,   1.4480,   3.1376,   1.4134,   1.8713],\n",
       "           [ 33.6312,  -7.0466,  -1.2669,   1.7493,   4.2478,   1.7997,  -1.3286],\n",
       "           [ 20.3409,  -8.5007,  -1.7535,   1.5314,   2.9346,   1.5897,   1.9065],\n",
       "           [  3.6581,   2.7923,  -1.5880,   1.6003,   3.7974,   1.5032,   1.8749],\n",
       "           [ 28.6658,  -1.6604,  -0.9765,   1.5613,   3.6019,   1.4319,  -2.8361],\n",
       "           [ 24.9876, -10.1824,  -1.7463,   1.6124,   3.6524,   1.5026,   1.9261],\n",
       "           [ 55.4273, -20.2328,  -1.2698,   1.6636,   4.0447,   1.5492,  -1.2440],\n",
       "           [ 40.9541,  -9.7344,  -1.2866,   1.6136,   3.7349,   1.5464,   1.9563],\n",
       "           [ 52.4317, -21.8914,  -1.0279,   1.5377,   3.4696,   1.5046,  -1.2648]])),\n",
       "   'scores_3d': tensor([0.9443, 0.9171, 0.9130, 0.7841, 0.7433, 0.6875, 0.5612, 0.5230, 0.4450,\n",
       "           0.4329, 0.2733]),\n",
       "   'labels_3d': tensor([0, 0, 0, 0, 0, 0, 0, 0, 0, 0, 0])}],\n",
       " 'data': {'img_metas': [[{'flip': False,\n",
       "     'pcd_horizontal_flip': False,\n",
       "     'pcd_vertical_flip': False,\n",
       "     'box_mode_3d': <Box3DMode.LIDAR: 0>,\n",
       "     'box_type_3d': mmdet3d.core.bbox.structures.lidar_box3d.LiDARInstance3DBoxes,\n",
       "     'pcd_trans': array([0., 0., 0.]),\n",
       "     'pcd_scale_factor': 1.0,\n",
       "     'pcd_rotation': tensor([[1., 0., 0.],\n",
       "             [-0., 1., 0.],\n",
       "             [0., 0., 1.]]),\n",
       "     'pts_filename': '/tmp/tmpt7zix4u5',\n",
       "     'transformation_3d_flow': ['R', 'S', 'T']}]],\n",
       "  'points': [[tensor([[ 2.1554e+01,  2.8000e-02,  9.3800e-01,  3.4000e-01],\n",
       "            [ 2.1240e+01,  9.4000e-02,  9.2700e-01,  2.4000e-01],\n",
       "            [ 2.1056e+01,  1.5900e-01,  9.2100e-01,  5.3000e-01],\n",
       "            ...,\n",
       "            [ 6.3150e+00, -3.1000e-02, -1.6490e+00,  2.9000e-01],\n",
       "            [ 6.3090e+00, -2.1000e-02, -1.6470e+00,  2.9000e-01],\n",
       "            [ 6.3110e+00, -1.0000e-03, -1.6480e+00,  3.2000e-01]], device='cuda:0')]]}}"
      ]
     },
     "execution_count": 19,
     "metadata": {},
     "output_type": "execute_result"
    }
   ],
   "source": [
    "# let's check our results\n",
    "rr"
   ]
  },
  {
   "cell_type": "markdown",
   "id": "123574dc",
   "metadata": {},
   "source": [
    "## Cleanup\n",
    "\n",
    "Make sure to delete unused endpoints, especially if you are running this in your own account!"
   ]
  },
  {
   "cell_type": "code",
   "execution_count": null,
   "id": "b9387b37",
   "metadata": {},
   "outputs": [],
   "source": [
    "response = sm_client.delete_endpoint(\n",
    "    EndpointName=endpoint_name\n",
    ")\n",
    "response"
   ]
  },
  {
   "cell_type": "markdown",
   "id": "9dc95e9f",
   "metadata": {},
   "source": [
    "## Conclusion\n",
    "\n",
    "You've now learned how to use Amazon SageMaker for end to end 3D machine learning! We hope you enjoyed this workshop, now it's your turn to apply what you've learned here to your own machine learning workflows!"
   ]
  }
 ],
 "metadata": {
  "kernelspec": {
   "display_name": "conda_pytorch_latest_p36",
   "language": "python",
   "name": "conda_pytorch_latest_p36"
  },
  "language_info": {
   "codemirror_mode": {
    "name": "ipython",
    "version": 3
   },
   "file_extension": ".py",
   "mimetype": "text/x-python",
   "name": "python",
   "nbconvert_exporter": "python",
   "pygments_lexer": "ipython3",
   "version": "3.6.13"
  }
 },
 "nbformat": 4,
 "nbformat_minor": 5
}
